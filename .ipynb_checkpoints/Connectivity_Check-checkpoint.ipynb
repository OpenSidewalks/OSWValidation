{
 "cells": [
  {
   "cell_type": "markdown",
   "metadata": {},
   "source": [
    "#### Introduction as to why the notebook\n",
    "Notebook created to work with redmond.json file and to check whether:  \n",
    "1. There are any ways that are not connected to any other ways (single roads)\n",
    "2. All the sidewalks are connected (Are there more than one component in the graph)\n",
    "3. Find out the cardinality of the graph"
   ]
  },
  {
   "cell_type": "code",
   "execution_count": 1,
   "metadata": {
    "ExecuteTime": {
     "end_time": "2020-07-17T09:55:18.055923Z",
     "start_time": "2020-07-17T09:55:13.756908Z"
    }
   },
   "outputs": [],
   "source": [
    "import numpy as np\n",
    "import os\n",
    "import pandas as pd\n",
    "import json\n",
    "from glob import glob\n",
    "import networkx as nx"
   ]
  },
  {
   "cell_type": "markdown",
   "metadata": {},
   "source": [
    "#### Supporting functions for the main method"
   ]
  },
  {
   "cell_type": "markdown",
   "metadata": {},
   "source": [
    "##### Get all the ways from the given input file\n",
    "The input to this function is a list of features from the input file.  \n",
    "We check for only sidewalk data in this"
   ]
  },
  {
   "cell_type": "code",
   "execution_count": 2,
   "metadata": {
    "ExecuteTime": {
     "end_time": "2020-07-17T09:55:18.081910Z",
     "start_time": "2020-07-17T09:55:18.063872Z"
    }
   },
   "outputs": [],
   "source": [
    "def get_ways(features_list):\n",
    "    '''\n",
    "    Returns list of list of coordinates.\n",
    "    Outer list is the element\n",
    "    Inner list is the coordinates within an element\n",
    "    '''\n",
    "    coord_list = []\n",
    "    for elem in features_list:\n",
    "        if(elem['properties']['footway'] == 'sidewalk'):\n",
    "            coord_list.append(elem['geometry']['coordinates'])\n",
    "    return coord_list"
   ]
  },
  {
   "cell_type": "markdown",
   "metadata": {},
   "source": [
    "##### Make a dictionary of the coordinates and the ways in which they belong to\n",
    "Helpful later for drawing the graph and to do analysis on top of it."
   ]
  },
  {
   "cell_type": "code",
   "execution_count": 3,
   "metadata": {
    "ExecuteTime": {
     "end_time": "2020-07-17T09:55:18.119877Z",
     "start_time": "2020-07-17T09:55:18.093870Z"
    }
   },
   "outputs": [],
   "source": [
    "def get_coord_dict(coord_list):\n",
    "    '''\n",
    "    Returns dictionary of coordinate\n",
    "    keys : unique coordinates\n",
    "    values : ways to which the coord belongs\n",
    "    '''\n",
    "    coord_dict = dict()\n",
    "    for id, elem in enumerate(coord_list):\n",
    "        for point in elem:\n",
    "            if(str(point) not in coord_dict.keys()):\n",
    "                coord_dict[str(point)] = [id]\n",
    "            else:\n",
    "                coord_dict[str(point)].append(id)\n",
    "    return coord_dict"
   ]
  },
  {
   "cell_type": "code",
   "execution_count": 4,
   "metadata": {
    "ExecuteTime": {
     "end_time": "2020-07-17T09:55:18.148905Z",
     "start_time": "2020-07-17T09:55:18.130876Z"
    }
   },
   "outputs": [],
   "source": [
    "def get_coord_df(coord_list):\n",
    "    '''\n",
    "    Return df with two columns: origin and dest\n",
    "    ******** Note to Rakesh : This to be used for connected components in networkx\n",
    "    '''\n",
    "    data = {'origin':[], 'dest': []}\n",
    "    df = pd.DataFrame(data)\n",
    "    for elem in coord_list:\n",
    "        # df = df.append([str(elem[0]), str(elem[-1])])\n",
    "        df = df.append({'origin':str(elem[0]), 'dest':str(elem[-1])}, ignore_index=True)\n",
    "    return df"
   ]
  },
  {
   "cell_type": "markdown",
   "metadata": {},
   "source": [
    "##### Get discarded ways - ways that are not connected to any other way\n",
    "The input to this function is a list of coordinates and the dictionary of coordinates.\n",
    "The idea is to check  \n",
    "- for a node in the list, check the length of the \"value\" of that _node_ as \"key\" in the dictionary\n",
    "- if the length > 1, it means the node is present in at least 2 ways and this way is safe\n",
    "- only if all the nodes in a way have length 1 in the dictionary, then it is not connected to any other way"
   ]
  },
  {
   "cell_type": "code",
   "execution_count": 5,
   "metadata": {
    "ExecuteTime": {
     "end_time": "2020-07-17T09:55:18.177907Z",
     "start_time": "2020-07-17T09:55:18.158863Z"
    }
   },
   "outputs": [],
   "source": [
    "def get_disc_way_ids(coord_list, coord_dict):\n",
    "    '''\n",
    "    Get way IDs to be discared (ways that are not part of any other ways)\n",
    "    '''\n",
    "    disc_way_ids = []\n",
    "    for id, elem in enumerate(coord_list):\n",
    "        ctr = 0\n",
    "        for point in elem:\n",
    "            if len(coord_dict[str(point)]) > 1:\n",
    "                break\n",
    "            else:\n",
    "                ctr += 1\n",
    "        if ctr == len(elem):\n",
    "            disc_way_ids.append(id)\n",
    "    return disc_way_ids"
   ]
  },
  {
   "cell_type": "markdown",
   "metadata": {},
   "source": [
    "##### Get Way IDs from the subgraph - \n",
    "The parameters for this function are a _subgraph_ and _ways_. Given a subgraph, we need to traceback the ways this graph is made of. "
   ]
  },
  {
   "cell_type": "code",
   "execution_count": 6,
   "metadata": {
    "ExecuteTime": {
     "end_time": "2020-07-17T09:55:18.208886Z",
     "start_time": "2020-07-17T09:55:18.188869Z"
    }
   },
   "outputs": [],
   "source": [
    "def get_way_from_subgraph(sgraph, df):\n",
    "    '''\n",
    "    Networkx gives subgraphs. This function is to infer the 'way id' from the given subgraph.\n",
    "    Args : subgraph and df\n",
    "    Retruns : set of ways that belong to subgraph\n",
    "    '''   \n",
    "    way_set = set()\n",
    "    for ind, edge in enumerate(sgraph.edges):        \n",
    "        #Coordinates can be interchanged between origin and dest. Hence checking both ways\n",
    "        #either s1 or s2 gets a value which is index of the way from df, the given edge belongs to        \n",
    "        s1 = pd.Series((df['origin'] == edge[-1]) & (df['dest'] == edge[0]))\n",
    "        s2 = pd.Series((df['origin'] == edge[0]) & (df['dest'] == edge[-1]))        \n",
    "        s = s1[s1].index.tolist() + s2[s2].index.tolist()\n",
    "        way_set.update(s)        \n",
    "    return list(way_set)"
   ]
  },
  {
   "cell_type": "markdown",
   "metadata": {},
   "source": [
    "#### Main Function Steps\n",
    "1. Get all the ways in the file\n",
    "2. Check which ways are alone (Not connected to any other way) and separate them out\n",
    "3. Of the remaining ways (that are connected to at least one another way), draw a graph\n",
    "4. Check how many subgraphs (Components) are there in the whole network\n",
    "5. Get the cardinality of the components (# of ways in those components and the way id)"
   ]
  },
  {
   "cell_type": "code",
   "execution_count": 7,
   "metadata": {
    "ExecuteTime": {
     "end_time": "2020-07-17T09:55:41.508437Z",
     "start_time": "2020-07-17T09:55:21.702925Z"
    }
   },
   "outputs": [
    {
     "name": "stdout",
     "output_type": "stream",
     "text": [
      "Number of json files : 1\n",
      "----------\n",
      "Processing File : redmond.geojson\n",
      "Number of ways in this file :  2462\n"
     ]
    }
   ],
   "source": [
    "if __name__ == '__main__':\n",
    "    path = \"OSW\\TestData\" # Changed the path here to a relative one\n",
    "    os.chdir(path)\n",
    "    json_files = glob(\"redmond.geojson\")\n",
    "    print(\"Number of json files :\", len(json_files))\n",
    "    \n",
    "    for ind, file in enumerate(json_files):\n",
    "        print('-'*10)\n",
    "        print('Processing File : {}'.format(file))\n",
    "        with open(file) as data_json:\n",
    "            data_dict = json.load(data_json)\n",
    "    \n",
    "        Ways = get_ways(data_dict['features'])\n",
    "        print(\"Number of sidewalks in this file : \", len(Ways))\n",
    "        \n",
    "        coord_dict = get_coord_dict(Ways)\n",
    "        #print(\"Coordinates Dictionary : \\n\", coord_dict)\n",
    "        \n",
    "        df = get_coord_df(Ways)\n",
    "        #print(\"DataFrame : \\n{}\".format(df))\n",
    "        \n",
    "        disc_way_ids = get_disc_way_ids(Ways, coord_dict)\n",
    "        #print(coord_dict.items())  \n",
    "        #print(\"Number of isolated ways: \", len(disc_way_ids))"
   ]
  },
  {
   "cell_type": "code",
   "execution_count": 8,
   "metadata": {
    "ExecuteTime": {
     "end_time": "2020-07-17T09:56:04.489378Z",
     "start_time": "2020-07-17T09:56:04.472378Z"
    }
   },
   "outputs": [
    {
     "name": "stdout",
     "output_type": "stream",
     "text": [
      "Number of isolated sidewalks:  73\n"
     ]
    }
   ],
   "source": [
    "print(\"Number of isolated sidewalks: \", len(disc_way_ids))"
   ]
  },
  {
   "cell_type": "code",
   "execution_count": 10,
   "metadata": {
    "ExecuteTime": {
     "end_time": "2020-07-17T09:57:20.174365Z",
     "start_time": "2020-07-17T09:57:20.144363Z"
    }
   },
   "outputs": [
    {
     "name": "stdout",
     "output_type": "stream",
     "text": [
      "Number of sidewalks in the file :  2462\n",
      "Number of isolated sidewalks:  73\n",
      "Number of Connected sidewalks in the file :  2389\n"
     ]
    }
   ],
   "source": [
    "Connected_Walks = Ways.copy()\n",
    "for x in sorted(disc_way_ids, reverse = True):  \n",
    "    del Connected_Walks[x] \n",
    "    \n",
    "#printing modified list\n",
    "print(\"Number of sidewalks in the file : \", len(Ways))\n",
    "print(\"Number of isolated sidewalks: \", len(disc_way_ids))\n",
    "print(\"Number of Connected sidewalks in the file : \", len(Connected_Walks))"
   ]
  },
  {
   "cell_type": "markdown",
   "metadata": {},
   "source": [
    "Connected_Ways now have all the ways that are connected to atleast one another way"
   ]
  },
  {
   "cell_type": "code",
   "execution_count": 11,
   "metadata": {
    "ExecuteTime": {
     "end_time": "2020-07-17T09:58:09.838951Z",
     "start_time": "2020-07-17T09:57:55.920268Z"
    }
   },
   "outputs": [
    {
     "name": "stdout",
     "output_type": "stream",
     "text": [
      "Is the entire graph connected :  False\n",
      "Number of subgraphs :  324\n"
     ]
    }
   ],
   "source": [
    "Connected_df = get_coord_df(Connected_Walks)\n",
    "Connected_FG = nx.from_pandas_edgelist(Connected_df, source='origin', target='dest')\n",
    "print(\"Is the entire graph connected : \", nx.is_connected(Connected_FG))\n",
    "print(\"Number of subgraphs : \", nx.number_connected_components(Connected_FG))\n",
    "#cc = nx.connected_components(Connected_FG)\n",
    "#for x in cc:\n",
    "    #print(len(x))"
   ]
  },
  {
   "cell_type": "markdown",
   "metadata": {},
   "source": [
    "We can get all the subgraphs and their information into a list"
   ]
  },
  {
   "cell_type": "code",
   "execution_count": 12,
   "metadata": {
    "ExecuteTime": {
     "end_time": "2020-07-17T09:58:27.443867Z",
     "start_time": "2020-07-17T09:58:27.330862Z"
    }
   },
   "outputs": [],
   "source": [
    "S = [Connected_FG.subgraph(c).copy() for c in nx.connected_components(Connected_FG)]"
   ]
  },
  {
   "cell_type": "markdown",
   "metadata": {},
   "source": [
    "Given a subgraph, get the ways (IDs) that are part of it"
   ]
  },
  {
   "cell_type": "code",
   "execution_count": 13,
   "metadata": {
    "ExecuteTime": {
     "end_time": "2020-07-17T09:59:13.614363Z",
     "start_time": "2020-07-17T09:59:13.539352Z"
    }
   },
   "outputs": [
    {
     "name": "stdout",
     "output_type": "stream",
     "text": [
      "[1, 2083, 2053, 2054, 2224, 2032, 2227, 340, 2043, 2044, 2045, 2046]\n"
     ]
    }
   ],
   "source": [
    "way_set = get_way_from_subgraph(S[1], Connected_df)\n",
    "print(way_set)"
   ]
  },
  {
   "cell_type": "markdown",
   "metadata": {},
   "source": [
    "#### Analysis data"
   ]
  },
  {
   "cell_type": "markdown",
   "metadata": {},
   "source": [
    "##### Number of coordinates in ways"
   ]
  },
  {
   "cell_type": "code",
   "execution_count": null,
   "metadata": {
    "ExecuteTime": {
     "end_time": "2020-07-16T08:15:15.283338Z",
     "start_time": "2020-07-16T08:15:15.261375Z"
    }
   },
   "outputs": [],
   "source": [
    "Coordinates_in_ways = []\n",
    "for x in range(0,len(Ways)):\n",
    "    Coordinates_in_ways.append(len(Ways[x]))\n",
    "freq = {} \n",
    "for item in Coordinates_in_ways: \n",
    "    if (item in freq): \n",
    "        freq[item] += 1\n",
    "    else: \n",
    "        freq[item] = 1\n",
    "\n",
    "for key, value in freq.items(): \n",
    "    print (\"% d : % d\"%(key, value)) "
   ]
  },
  {
   "cell_type": "markdown",
   "metadata": {},
   "source": [
    "##### Number of ways at a coordinate"
   ]
  },
  {
   "cell_type": "code",
   "execution_count": null,
   "metadata": {
    "ExecuteTime": {
     "end_time": "2020-07-16T08:15:25.216032Z",
     "start_time": "2020-07-16T08:15:25.196053Z"
    }
   },
   "outputs": [],
   "source": [
    "ways_at_coordinates = []\n",
    "for x in coord_dict:\n",
    "    ways_at_coordinates.append((len(coord_dict[x])))\n",
    "ways_at_coordinates\n",
    "freq = {} \n",
    "for item in ways_at_coordinates: \n",
    "    if (item in freq): \n",
    "        freq[item] += 1\n",
    "    else: \n",
    "        freq[item] = 1\n",
    "\n",
    "for key, value in freq.items(): \n",
    "    print (\"% d : % d\"%(key, value)) "
   ]
  },
  {
   "cell_type": "markdown",
   "metadata": {},
   "source": [
    "##### Discard this - not needed.\n",
    "This is to encode the nodes to a numeric value for drawing the graph using Networkx\n",
    "Created to overcome a simple error while drawing graph using networkx  \n",
    "_Edge_attr = True_ does not need to be present. "
   ]
  },
  {
   "cell_type": "code",
   "execution_count": null,
   "metadata": {
    "ExecuteTime": {
     "end_time": "2020-07-16T08:54:56.888198Z",
     "start_time": "2020-07-16T08:53:42.253975Z"
    }
   },
   "outputs": [],
   "source": [
    "ddata = {'origin':[], 'dest': [], 'source':[], 'destination':[]}\n",
    "ddf = pd.DataFrame(ddata)\n",
    "Encoding = {}\n",
    "n = 0\n",
    "src_val, dest_val = 0,0\n",
    "for elem in range(0,len(Ways)):\n",
    "    \n",
    "    if (str(Ways[elem][0]) not in Encoding.keys()):\n",
    "        Encoding[str(Ways[elem][0])] = n\n",
    "        src_val = n\n",
    "        n = n+1\n",
    "    else:\n",
    "        src_val = Encoding[str(Ways[elem][0])]\n",
    "    \n",
    "    if (str(Ways[elem][-1]) not in Encoding.keys()):\n",
    "        Encoding[str(Ways[elem][-1])] = n\n",
    "        dest_val = n\n",
    "        n = n+1\n",
    "    else:\n",
    "        dest_val = Encoding[str(Ways[elem][-1])]\n",
    "    \n",
    "    ddf = ddf.append({'origin':str(Ways[elem][0]), 'dest':str(Ways[elem][-1]), 'source':src_val, 'destination':dest_val}, ignore_index=True)\n",
    "#type(Ways)\n",
    "ddf"
   ]
  },
  {
   "cell_type": "code",
   "execution_count": null,
   "metadata": {
    "ExecuteTime": {
     "end_time": "2020-07-16T09:10:05.898987Z",
     "start_time": "2020-07-16T08:57:32.740995Z"
    }
   },
   "outputs": [],
   "source": [
    "import networkx as nx\n",
    "FG = nx.from_pandas_edgelist(ddf, source='source', target='destination', edge_attr=True)\n",
    "nx.draw_networkx(FG, with_labels=True)"
   ]
  },
  {
   "cell_type": "code",
   "execution_count": null,
   "metadata": {},
   "outputs": [],
   "source": [
    "print(nx.is_connected(FG))\n",
    "print(nx.number_connected_components(FG))\n",
    "cc = nx.connected_components(FG)\n",
    "#for x in cc:\n",
    "    #print(x)\n",
    "    #print(len(x))"
   ]
  }
 ],
 "metadata": {
  "kernelspec": {
   "display_name": "Python 3",
   "language": "python",
   "name": "python3"
  },
  "language_info": {
   "codemirror_mode": {
    "name": "ipython",
    "version": 3
   },
   "file_extension": ".py",
   "mimetype": "text/x-python",
   "name": "python",
   "nbconvert_exporter": "python",
   "pygments_lexer": "ipython3",
   "version": "3.6.9"
  },
  "toc": {
   "base_numbering": 1,
   "nav_menu": {},
   "number_sections": true,
   "sideBar": true,
   "skip_h1_title": false,
   "title_cell": "Table of Contents",
   "title_sidebar": "Contents",
   "toc_cell": false,
   "toc_position": {},
   "toc_section_display": true,
   "toc_window_display": false
  }
 },
 "nbformat": 4,
 "nbformat_minor": 2
}
